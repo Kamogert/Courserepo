{
 "cells": [
  {
   "cell_type": "markdown",
   "id": "4aef07e8-2d87-4b65-988b-060ee8c1c11b",
   "metadata": {},
   "source": [
    "# Data Science Tools and Ecosystem"
   ]
  },
  {
   "cell_type": "markdown",
   "id": "58bb9a4b-2567-44cd-ba4c-fb5341392c6d",
   "metadata": {},
   "source": [
    "In this notebook, Data Science Tools and Ecosystem are summarized."
   ]
  },
  {
   "cell_type": "markdown",
   "id": "db9b6b04-1280-451a-b5cf-295d1ecf6bb0",
   "metadata": {},
   "source": [
    "**Objectives:**\n",
    "+ List popular languages for Data Science\n",
    "+ List commonly used libraries by Data Scientists\n",
    "+ List Data Science Tools\n",
    "+ Show a few examples of evaluating arithmetic expressions in Python"
   ]
  },
  {
   "cell_type": "markdown",
   "id": "bdff02d2-4d42-434c-bd78-b9e9dc21643f",
   "metadata": {},
   "source": [
    "### Some of the popular languages that Data Scientists use are:\n",
    "1. Python\n",
    "2. R\n",
    "3. Julia"
   ]
  },
  {
   "cell_type": "markdown",
   "id": "780ec169-08e8-48ae-b500-cdc7f8b0ce62",
   "metadata": {},
   "source": [
    "### Some of the commonly used libraries used by Data Scientists include:\n",
    "1. Pandas\n",
    "2. NumPy\n",
    "3. SciPy"
   ]
  },
  {
   "cell_type": "markdown",
   "id": "7e50de55-5f75-4c91-aa3a-9a38091feb84",
   "metadata": {},
   "source": [
    "|Data Science Tools|\n",
    "|------------------|\n",
    "|Anaconda|\n",
    "|Jupyter Notebooks|\n",
    "|Pycharm|"
   ]
  },
  {
   "cell_type": "markdown",
   "id": "9c6b816f-687f-4c7a-a27d-057c1c5a62a6",
   "metadata": {},
   "source": [
    "### Below are a few examples of evaluating arithmetic expressions in Python.\n"
   ]
  },
  {
   "cell_type": "markdown",
   "id": "d88fd2fd-b74c-4c2f-84a7-288120970fbc",
   "metadata": {},
   "source": [
    "This a simple arithmetic expression to multiply then add integers."
   ]
  },
  {
   "cell_type": "code",
   "execution_count": 5,
   "id": "b9db8fca-7451-4a98-a186-e67f36c5f8a4",
   "metadata": {},
   "outputs": [
    {
     "data": {
      "text/plain": [
       "17"
      ]
     },
     "execution_count": 5,
     "metadata": {},
     "output_type": "execute_result"
    }
   ],
   "source": [
    " (3*4)+5"
   ]
  },
  {
   "cell_type": "markdown",
   "id": "9e52b055-0e6c-4250-9a19-2e7577f91344",
   "metadata": {},
   "source": [
    "This will convert 200 minutes to hours by diving by 60.\n"
   ]
  },
  {
   "cell_type": "code",
   "execution_count": 7,
   "id": "46be5e93-afcd-43f8-b334-9605dcd32145",
   "metadata": {},
   "outputs": [
    {
     "data": {
      "text/plain": [
       "3.3333333333333335"
      ]
     },
     "execution_count": 7,
     "metadata": {},
     "output_type": "execute_result"
    }
   ],
   "source": [
    "200/60"
   ]
  },
  {
   "cell_type": "markdown",
   "id": "c2408afc-da26-43ff-91d2-bc5e87300a2d",
   "metadata": {},
   "source": [
    "## Author\n",
    "Gert Makhafola"
   ]
  }
 ],
 "metadata": {
  "kernelspec": {
   "display_name": "Python 3 (ipykernel)",
   "language": "python",
   "name": "python3"
  },
  "language_info": {
   "codemirror_mode": {
    "name": "ipython",
    "version": 3
   },
   "file_extension": ".py",
   "mimetype": "text/x-python",
   "name": "python",
   "nbconvert_exporter": "python",
   "pygments_lexer": "ipython3",
   "version": "3.12.7"
  }
 },
 "nbformat": 4,
 "nbformat_minor": 5
}
